{
 "cells": [
  {
   "cell_type": "code",
   "execution_count": 4,
   "id": "18ec95cc",
   "metadata": {},
   "outputs": [],
   "source": [
    "from random import sample \n",
    "import pandas as pd "
   ]
  },
  {
   "cell_type": "code",
   "execution_count": 3,
   "id": "8e36f87c",
   "metadata": {},
   "outputs": [],
   "source": [
    "Data = pd.read_csv(\"C:\\\\Users\\\\Madjid\\\\Desktop\\\\Work\\\\learning\\\\google capstone Project #1\\\\Trip Data\\\\TripData (CSV)\\\\Full Data.csv\")"
   ]
  },
  {
   "cell_type": "code",
   "execution_count": 6,
   "id": "971a811c",
   "metadata": {},
   "outputs": [],
   "source": [
    "Trip_Sample = Data.sample(n=48483)"
   ]
  },
  {
   "cell_type": "code",
   "execution_count": 8,
   "id": "c0b15272",
   "metadata": {},
   "outputs": [
    {
     "data": {
      "text/plain": [
       "(48483, 13)"
      ]
     },
     "execution_count": 8,
     "metadata": {},
     "output_type": "execute_result"
    }
   ],
   "source": [
    "Trip_Sample.shape"
   ]
  },
  {
   "cell_type": "code",
   "execution_count": 10,
   "id": "6181c13a",
   "metadata": {},
   "outputs": [],
   "source": [
    "Trip_Sample.to_csv(\"Trip DATA Sample.csv\",index=False)"
   ]
  },
  {
   "cell_type": "code",
   "execution_count": null,
   "id": "042906de",
   "metadata": {},
   "outputs": [],
   "source": []
  }
 ],
 "metadata": {
  "kernelspec": {
   "display_name": "Python 3",
   "language": "python",
   "name": "python3"
  },
  "language_info": {
   "codemirror_mode": {
    "name": "ipython",
    "version": 3
   },
   "file_extension": ".py",
   "mimetype": "text/x-python",
   "name": "python",
   "nbconvert_exporter": "python",
   "pygments_lexer": "ipython3",
   "version": "3.8.8"
  }
 },
 "nbformat": 4,
 "nbformat_minor": 5
}
